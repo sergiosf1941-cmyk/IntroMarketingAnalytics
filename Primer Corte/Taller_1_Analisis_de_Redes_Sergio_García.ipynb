{
  "nbformat": 4,
  "nbformat_minor": 0,
  "metadata": {
    "colab": {
      "provenance": []
    },
    "kernelspec": {
      "name": "python3",
      "display_name": "Python 3"
    },
    "language_info": {
      "name": "python"
    }
  },
  "cells": [
    {
      "cell_type": "markdown",
      "source": [
        "## ADDIDAS ANALISIS"
      ],
      "metadata": {
        "id": "uT0832q-kArY"
      }
    },
    {
      "cell_type": "code",
      "execution_count": null,
      "metadata": {
        "colab": {
          "base_uri": "https://localhost:8080/"
        },
        "id": "LzdR1BxgaAfE",
        "outputId": "b240a313-9cc3-411c-cd3b-d02494403ae4"
      },
      "outputs": [
        {
          "output_type": "stream",
          "name": "stdout",
          "text": [
            "--2025-09-10 20:01:21--  https://github.com/prayagpadwal/Adidas-Sales-Analysis/raw/main/Adidas%20US%20Sales%20Datasets.xlsx\n",
            "Resolving github.com (github.com)... 140.82.112.4\n",
            "Connecting to github.com (github.com)|140.82.112.4|:443... connected.\n",
            "HTTP request sent, awaiting response... 302 Found\n",
            "Location: https://raw.githubusercontent.com/prayagpadwal/Adidas-Sales-Analysis/main/Adidas%20US%20Sales%20Datasets.xlsx [following]\n",
            "--2025-09-10 20:01:26--  https://raw.githubusercontent.com/prayagpadwal/Adidas-Sales-Analysis/main/Adidas%20US%20Sales%20Datasets.xlsx\n",
            "Resolving raw.githubusercontent.com (raw.githubusercontent.com)... 185.199.109.133, 185.199.111.133, 185.199.108.133, ...\n",
            "Connecting to raw.githubusercontent.com (raw.githubusercontent.com)|185.199.109.133|:443... connected.\n",
            "HTTP request sent, awaiting response... 200 OK\n",
            "Length: 693038 (677K) [application/octet-stream]\n",
            "Saving to: ‘Adidas US Sales Datasets.xlsx.2’\n",
            "\n",
            "Adidas US Sales Dat 100%[===================>] 676.79K  --.-KB/s    in 0.05s   \n",
            "\n",
            "2025-09-10 20:01:26 (12.4 MB/s) - ‘Adidas US Sales Datasets.xlsx.2’ saved [693038/693038]\n",
            "\n"
          ]
        }
      ],
      "source": [
        "!wget https://github.com/prayagpadwal/Adidas-Sales-Analysis/raw/main/Adidas%20US%20Sales%20Datasets.xlsx"
      ]
    },
    {
      "cell_type": "code",
      "source": [
        "import pandas as pd\n",
        "data = pd.read_excel(\"Adidas US Sales Datasets.xlsx\")"
      ],
      "metadata": {
        "id": "7On1YDxqbXzc"
      },
      "execution_count": null,
      "outputs": []
    },
    {
      "cell_type": "code",
      "source": [
        "data.head(3)"
      ],
      "metadata": {
        "colab": {
          "base_uri": "https://localhost:8080/",
          "height": 213
        },
        "id": "gOCTKTKJb4WE",
        "outputId": "eac6b331-aa25-43e5-9f71-3b89b69bac89"
      },
      "execution_count": null,
      "outputs": [
        {
          "output_type": "execute_result",
          "data": {
            "text/plain": [
              "      Retailer  Retailer ID Invoice Date     Region     State      City  \\\n",
              "0  Foot Locker      1185732   2020-01-01  Northeast  New York  New York   \n",
              "1  Foot Locker      1185732   2020-01-02  Northeast  New York  New York   \n",
              "2  Foot Locker      1185732   2020-01-03  Northeast  New York  New York   \n",
              "\n",
              "                   Product  Price per Unit  Units Sold  Total Sales  \\\n",
              "0    Men's Street Footwear           50.00        1200   600,000.00   \n",
              "1  Men's Athletic Footwear           50.00        1000   500,000.00   \n",
              "2  Women's Street Footwear           40.00        1000   400,000.00   \n",
              "\n",
              "   Operating Profit  Operating Margin Sales Method  \n",
              "0        300,000.00              0.50     In-store  \n",
              "1        150,000.00              0.30     In-store  \n",
              "2        140,000.00              0.35     In-store  "
            ],
            "text/html": [
              "\n",
              "  <div id=\"df-29ac884d-8cce-4276-a512-2a38c5bfbb0c\" class=\"colab-df-container\">\n",
              "    <div>\n",
              "<style scoped>\n",
              "    .dataframe tbody tr th:only-of-type {\n",
              "        vertical-align: middle;\n",
              "    }\n",
              "\n",
              "    .dataframe tbody tr th {\n",
              "        vertical-align: top;\n",
              "    }\n",
              "\n",
              "    .dataframe thead th {\n",
              "        text-align: right;\n",
              "    }\n",
              "</style>\n",
              "<table border=\"1\" class=\"dataframe\">\n",
              "  <thead>\n",
              "    <tr style=\"text-align: right;\">\n",
              "      <th></th>\n",
              "      <th>Retailer</th>\n",
              "      <th>Retailer ID</th>\n",
              "      <th>Invoice Date</th>\n",
              "      <th>Region</th>\n",
              "      <th>State</th>\n",
              "      <th>City</th>\n",
              "      <th>Product</th>\n",
              "      <th>Price per Unit</th>\n",
              "      <th>Units Sold</th>\n",
              "      <th>Total Sales</th>\n",
              "      <th>Operating Profit</th>\n",
              "      <th>Operating Margin</th>\n",
              "      <th>Sales Method</th>\n",
              "    </tr>\n",
              "  </thead>\n",
              "  <tbody>\n",
              "    <tr>\n",
              "      <th>0</th>\n",
              "      <td>Foot Locker</td>\n",
              "      <td>1185732</td>\n",
              "      <td>2020-01-01</td>\n",
              "      <td>Northeast</td>\n",
              "      <td>New York</td>\n",
              "      <td>New York</td>\n",
              "      <td>Men's Street Footwear</td>\n",
              "      <td>50.00</td>\n",
              "      <td>1200</td>\n",
              "      <td>600,000.00</td>\n",
              "      <td>300,000.00</td>\n",
              "      <td>0.50</td>\n",
              "      <td>In-store</td>\n",
              "    </tr>\n",
              "    <tr>\n",
              "      <th>1</th>\n",
              "      <td>Foot Locker</td>\n",
              "      <td>1185732</td>\n",
              "      <td>2020-01-02</td>\n",
              "      <td>Northeast</td>\n",
              "      <td>New York</td>\n",
              "      <td>New York</td>\n",
              "      <td>Men's Athletic Footwear</td>\n",
              "      <td>50.00</td>\n",
              "      <td>1000</td>\n",
              "      <td>500,000.00</td>\n",
              "      <td>150,000.00</td>\n",
              "      <td>0.30</td>\n",
              "      <td>In-store</td>\n",
              "    </tr>\n",
              "    <tr>\n",
              "      <th>2</th>\n",
              "      <td>Foot Locker</td>\n",
              "      <td>1185732</td>\n",
              "      <td>2020-01-03</td>\n",
              "      <td>Northeast</td>\n",
              "      <td>New York</td>\n",
              "      <td>New York</td>\n",
              "      <td>Women's Street Footwear</td>\n",
              "      <td>40.00</td>\n",
              "      <td>1000</td>\n",
              "      <td>400,000.00</td>\n",
              "      <td>140,000.00</td>\n",
              "      <td>0.35</td>\n",
              "      <td>In-store</td>\n",
              "    </tr>\n",
              "  </tbody>\n",
              "</table>\n",
              "</div>\n",
              "    <div class=\"colab-df-buttons\">\n",
              "\n",
              "  <div class=\"colab-df-container\">\n",
              "    <button class=\"colab-df-convert\" onclick=\"convertToInteractive('df-29ac884d-8cce-4276-a512-2a38c5bfbb0c')\"\n",
              "            title=\"Convert this dataframe to an interactive table.\"\n",
              "            style=\"display:none;\">\n",
              "\n",
              "  <svg xmlns=\"http://www.w3.org/2000/svg\" height=\"24px\" viewBox=\"0 -960 960 960\">\n",
              "    <path d=\"M120-120v-720h720v720H120Zm60-500h600v-160H180v160Zm220 220h160v-160H400v160Zm0 220h160v-160H400v160ZM180-400h160v-160H180v160Zm440 0h160v-160H620v160ZM180-180h160v-160H180v160Zm440 0h160v-160H620v160Z\"/>\n",
              "  </svg>\n",
              "    </button>\n",
              "\n",
              "  <style>\n",
              "    .colab-df-container {\n",
              "      display:flex;\n",
              "      gap: 12px;\n",
              "    }\n",
              "\n",
              "    .colab-df-convert {\n",
              "      background-color: #E8F0FE;\n",
              "      border: none;\n",
              "      border-radius: 50%;\n",
              "      cursor: pointer;\n",
              "      display: none;\n",
              "      fill: #1967D2;\n",
              "      height: 32px;\n",
              "      padding: 0 0 0 0;\n",
              "      width: 32px;\n",
              "    }\n",
              "\n",
              "    .colab-df-convert:hover {\n",
              "      background-color: #E2EBFA;\n",
              "      box-shadow: 0px 1px 2px rgba(60, 64, 67, 0.3), 0px 1px 3px 1px rgba(60, 64, 67, 0.15);\n",
              "      fill: #174EA6;\n",
              "    }\n",
              "\n",
              "    .colab-df-buttons div {\n",
              "      margin-bottom: 4px;\n",
              "    }\n",
              "\n",
              "    [theme=dark] .colab-df-convert {\n",
              "      background-color: #3B4455;\n",
              "      fill: #D2E3FC;\n",
              "    }\n",
              "\n",
              "    [theme=dark] .colab-df-convert:hover {\n",
              "      background-color: #434B5C;\n",
              "      box-shadow: 0px 1px 3px 1px rgba(0, 0, 0, 0.15);\n",
              "      filter: drop-shadow(0px 1px 2px rgba(0, 0, 0, 0.3));\n",
              "      fill: #FFFFFF;\n",
              "    }\n",
              "  </style>\n",
              "\n",
              "    <script>\n",
              "      const buttonEl =\n",
              "        document.querySelector('#df-29ac884d-8cce-4276-a512-2a38c5bfbb0c button.colab-df-convert');\n",
              "      buttonEl.style.display =\n",
              "        google.colab.kernel.accessAllowed ? 'block' : 'none';\n",
              "\n",
              "      async function convertToInteractive(key) {\n",
              "        const element = document.querySelector('#df-29ac884d-8cce-4276-a512-2a38c5bfbb0c');\n",
              "        const dataTable =\n",
              "          await google.colab.kernel.invokeFunction('convertToInteractive',\n",
              "                                                    [key], {});\n",
              "        if (!dataTable) return;\n",
              "\n",
              "        const docLinkHtml = 'Like what you see? Visit the ' +\n",
              "          '<a target=\"_blank\" href=https://colab.research.google.com/notebooks/data_table.ipynb>data table notebook</a>'\n",
              "          + ' to learn more about interactive tables.';\n",
              "        element.innerHTML = '';\n",
              "        dataTable['output_type'] = 'display_data';\n",
              "        await google.colab.output.renderOutput(dataTable, element);\n",
              "        const docLink = document.createElement('div');\n",
              "        docLink.innerHTML = docLinkHtml;\n",
              "        element.appendChild(docLink);\n",
              "      }\n",
              "    </script>\n",
              "  </div>\n",
              "\n",
              "\n",
              "    <div id=\"df-6940fa92-af7b-4d8c-9e37-57558bc71ad0\">\n",
              "      <button class=\"colab-df-quickchart\" onclick=\"quickchart('df-6940fa92-af7b-4d8c-9e37-57558bc71ad0')\"\n",
              "                title=\"Suggest charts\"\n",
              "                style=\"display:none;\">\n",
              "\n",
              "<svg xmlns=\"http://www.w3.org/2000/svg\" height=\"24px\"viewBox=\"0 0 24 24\"\n",
              "     width=\"24px\">\n",
              "    <g>\n",
              "        <path d=\"M19 3H5c-1.1 0-2 .9-2 2v14c0 1.1.9 2 2 2h14c1.1 0 2-.9 2-2V5c0-1.1-.9-2-2-2zM9 17H7v-7h2v7zm4 0h-2V7h2v10zm4 0h-2v-4h2v4z\"/>\n",
              "    </g>\n",
              "</svg>\n",
              "      </button>\n",
              "\n",
              "<style>\n",
              "  .colab-df-quickchart {\n",
              "      --bg-color: #E8F0FE;\n",
              "      --fill-color: #1967D2;\n",
              "      --hover-bg-color: #E2EBFA;\n",
              "      --hover-fill-color: #174EA6;\n",
              "      --disabled-fill-color: #AAA;\n",
              "      --disabled-bg-color: #DDD;\n",
              "  }\n",
              "\n",
              "  [theme=dark] .colab-df-quickchart {\n",
              "      --bg-color: #3B4455;\n",
              "      --fill-color: #D2E3FC;\n",
              "      --hover-bg-color: #434B5C;\n",
              "      --hover-fill-color: #FFFFFF;\n",
              "      --disabled-bg-color: #3B4455;\n",
              "      --disabled-fill-color: #666;\n",
              "  }\n",
              "\n",
              "  .colab-df-quickchart {\n",
              "    background-color: var(--bg-color);\n",
              "    border: none;\n",
              "    border-radius: 50%;\n",
              "    cursor: pointer;\n",
              "    display: none;\n",
              "    fill: var(--fill-color);\n",
              "    height: 32px;\n",
              "    padding: 0;\n",
              "    width: 32px;\n",
              "  }\n",
              "\n",
              "  .colab-df-quickchart:hover {\n",
              "    background-color: var(--hover-bg-color);\n",
              "    box-shadow: 0 1px 2px rgba(60, 64, 67, 0.3), 0 1px 3px 1px rgba(60, 64, 67, 0.15);\n",
              "    fill: var(--button-hover-fill-color);\n",
              "  }\n",
              "\n",
              "  .colab-df-quickchart-complete:disabled,\n",
              "  .colab-df-quickchart-complete:disabled:hover {\n",
              "    background-color: var(--disabled-bg-color);\n",
              "    fill: var(--disabled-fill-color);\n",
              "    box-shadow: none;\n",
              "  }\n",
              "\n",
              "  .colab-df-spinner {\n",
              "    border: 2px solid var(--fill-color);\n",
              "    border-color: transparent;\n",
              "    border-bottom-color: var(--fill-color);\n",
              "    animation:\n",
              "      spin 1s steps(1) infinite;\n",
              "  }\n",
              "\n",
              "  @keyframes spin {\n",
              "    0% {\n",
              "      border-color: transparent;\n",
              "      border-bottom-color: var(--fill-color);\n",
              "      border-left-color: var(--fill-color);\n",
              "    }\n",
              "    20% {\n",
              "      border-color: transparent;\n",
              "      border-left-color: var(--fill-color);\n",
              "      border-top-color: var(--fill-color);\n",
              "    }\n",
              "    30% {\n",
              "      border-color: transparent;\n",
              "      border-left-color: var(--fill-color);\n",
              "      border-top-color: var(--fill-color);\n",
              "      border-right-color: var(--fill-color);\n",
              "    }\n",
              "    40% {\n",
              "      border-color: transparent;\n",
              "      border-right-color: var(--fill-color);\n",
              "      border-top-color: var(--fill-color);\n",
              "    }\n",
              "    60% {\n",
              "      border-color: transparent;\n",
              "      border-right-color: var(--fill-color);\n",
              "    }\n",
              "    80% {\n",
              "      border-color: transparent;\n",
              "      border-right-color: var(--fill-color);\n",
              "      border-bottom-color: var(--fill-color);\n",
              "    }\n",
              "    90% {\n",
              "      border-color: transparent;\n",
              "      border-bottom-color: var(--fill-color);\n",
              "    }\n",
              "  }\n",
              "</style>\n",
              "\n",
              "      <script>\n",
              "        async function quickchart(key) {\n",
              "          const quickchartButtonEl =\n",
              "            document.querySelector('#' + key + ' button');\n",
              "          quickchartButtonEl.disabled = true;  // To prevent multiple clicks.\n",
              "          quickchartButtonEl.classList.add('colab-df-spinner');\n",
              "          try {\n",
              "            const charts = await google.colab.kernel.invokeFunction(\n",
              "                'suggestCharts', [key], {});\n",
              "          } catch (error) {\n",
              "            console.error('Error during call to suggestCharts:', error);\n",
              "          }\n",
              "          quickchartButtonEl.classList.remove('colab-df-spinner');\n",
              "          quickchartButtonEl.classList.add('colab-df-quickchart-complete');\n",
              "        }\n",
              "        (() => {\n",
              "          let quickchartButtonEl =\n",
              "            document.querySelector('#df-6940fa92-af7b-4d8c-9e37-57558bc71ad0 button');\n",
              "          quickchartButtonEl.style.display =\n",
              "            google.colab.kernel.accessAllowed ? 'block' : 'none';\n",
              "        })();\n",
              "      </script>\n",
              "    </div>\n",
              "\n",
              "    </div>\n",
              "  </div>\n"
            ],
            "application/vnd.google.colaboratory.intrinsic+json": {
              "type": "dataframe",
              "variable_name": "data",
              "summary": "{\n  \"name\": \"data\",\n  \"rows\": 9648,\n  \"fields\": [\n    {\n      \"column\": \"Retailer\",\n      \"properties\": {\n        \"dtype\": \"category\",\n        \"num_unique_values\": 6,\n        \"samples\": [\n          \"Foot Locker\",\n          \"Walmart\",\n          \"Amazon\"\n        ],\n        \"semantic_type\": \"\",\n        \"description\": \"\"\n      }\n    },\n    {\n      \"column\": \"Retailer ID\",\n      \"properties\": {\n        \"dtype\": \"number\",\n        \"std\": 26360,\n        \"min\": 1128299,\n        \"max\": 1197831,\n        \"num_unique_values\": 4,\n        \"samples\": [\n          1197831,\n          1189833,\n          1185732\n        ],\n        \"semantic_type\": \"\",\n        \"description\": \"\"\n      }\n    },\n    {\n      \"column\": \"Invoice Date\",\n      \"properties\": {\n        \"dtype\": \"date\",\n        \"min\": \"2020-01-01 00:00:00\",\n        \"max\": \"2021-12-31 00:00:00\",\n        \"num_unique_values\": 724,\n        \"samples\": [\n          \"2021-07-12 00:00:00\",\n          \"2020-02-18 00:00:00\",\n          \"2020-04-12 00:00:00\"\n        ],\n        \"semantic_type\": \"\",\n        \"description\": \"\"\n      }\n    },\n    {\n      \"column\": \"Region\",\n      \"properties\": {\n        \"dtype\": \"category\",\n        \"num_unique_values\": 5,\n        \"samples\": [\n          \"South\",\n          \"Southeast\",\n          \"West\"\n        ],\n        \"semantic_type\": \"\",\n        \"description\": \"\"\n      }\n    },\n    {\n      \"column\": \"State\",\n      \"properties\": {\n        \"dtype\": \"category\",\n        \"num_unique_values\": 50,\n        \"samples\": [\n          \"Alabama\",\n          \"Wisconsin\",\n          \"Ohio\"\n        ],\n        \"semantic_type\": \"\",\n        \"description\": \"\"\n      }\n    },\n    {\n      \"column\": \"City\",\n      \"properties\": {\n        \"dtype\": \"category\",\n        \"num_unique_values\": 52,\n        \"samples\": [\n          \"Orlando\",\n          \"Des Moines\",\n          \"Hartford\"\n        ],\n        \"semantic_type\": \"\",\n        \"description\": \"\"\n      }\n    },\n    {\n      \"column\": \"Product\",\n      \"properties\": {\n        \"dtype\": \"category\",\n        \"num_unique_values\": 6,\n        \"samples\": [\n          \"Men's Street Footwear\",\n          \"Men's Athletic Footwear\",\n          \"Women's Apparel\"\n        ],\n        \"semantic_type\": \"\",\n        \"description\": \"\"\n      }\n    },\n    {\n      \"column\": \"Price per Unit\",\n      \"properties\": {\n        \"dtype\": \"number\",\n        \"std\": 14.705397125008178,\n        \"min\": 7.0,\n        \"max\": 110.00000000000001,\n        \"num_unique_values\": 146,\n        \"samples\": [\n          90.0,\n          38.0,\n          90.00000000000001\n        ],\n        \"semantic_type\": \"\",\n        \"description\": \"\"\n      }\n    },\n    {\n      \"column\": \"Units Sold\",\n      \"properties\": {\n        \"dtype\": \"number\",\n        \"std\": 214,\n        \"min\": 0,\n        \"max\": 1275,\n        \"num_unique_values\": 361,\n        \"samples\": [\n          156,\n          475,\n          1075\n        ],\n        \"semantic_type\": \"\",\n        \"description\": \"\"\n      }\n    },\n    {\n      \"column\": \"Total Sales\",\n      \"properties\": {\n        \"dtype\": \"number\",\n        \"std\": 141916.01672683068,\n        \"min\": 0.0,\n        \"max\": 825000.0000000001,\n        \"num_unique_values\": 3512,\n        \"samples\": [\n          248000.0,\n          2997.0,\n          20212.0\n        ],\n        \"semantic_type\": \"\",\n        \"description\": \"\"\n      }\n    },\n    {\n      \"column\": \"Operating Profit\",\n      \"properties\": {\n        \"dtype\": \"number\",\n        \"std\": 54193.113713232204,\n        \"min\": 0.0,\n        \"max\": 390000.0,\n        \"num_unique_values\": 6510,\n        \"samples\": [\n          57749.99999999999,\n          486.72,\n          393.29999999999995\n        ],\n        \"semantic_type\": \"\",\n        \"description\": \"\"\n      }\n    },\n    {\n      \"column\": \"Operating Margin\",\n      \"properties\": {\n        \"dtype\": \"number\",\n        \"std\": 0.09719741850510741,\n        \"min\": 0.1,\n        \"max\": 0.8000000000000002,\n        \"num_unique_values\": 127,\n        \"samples\": [\n          0.62,\n          0.17,\n          0.7500000000000001\n        ],\n        \"semantic_type\": \"\",\n        \"description\": \"\"\n      }\n    },\n    {\n      \"column\": \"Sales Method\",\n      \"properties\": {\n        \"dtype\": \"category\",\n        \"num_unique_values\": 3,\n        \"samples\": [\n          \"In-store\",\n          \"Outlet\",\n          \"Online\"\n        ],\n        \"semantic_type\": \"\",\n        \"description\": \"\"\n      }\n    }\n  ]\n}"
            }
          },
          "metadata": {},
          "execution_count": 63
        }
      ]
    },
    {
      "cell_type": "markdown",
      "source": [
        "0. Cuantas filas y columnas tiene la tabla?"
      ],
      "metadata": {
        "id": "K2vRav6wboQY"
      }
    },
    {
      "cell_type": "code",
      "source": [
        "data.shape"
      ],
      "metadata": {
        "id": "Hxw-Ouzgbw9v",
        "outputId": "749f481c-6e91-4244-a5d0-0456acc6b3a7",
        "colab": {
          "base_uri": "https://localhost:8080/"
        }
      },
      "execution_count": null,
      "outputs": [
        {
          "output_type": "execute_result",
          "data": {
            "text/plain": [
              "(9648, 13)"
            ]
          },
          "metadata": {},
          "execution_count": 64
        }
      ]
    },
    {
      "cell_type": "markdown",
      "source": [
        "0.1 Cual es la unidad de observación de la tabla?"
      ],
      "metadata": {
        "id": "hvV7YNu2bsdP"
      }
    },
    {
      "cell_type": "markdown",
      "source": [
        "En la siguiente tabla encontramos los retails que vende Adidas, los diferentes productos, cantidades, total de venta y el profit\n"
      ],
      "metadata": {
        "id": "5efbuS9MjYFi"
      }
    },
    {
      "cell_type": "markdown",
      "source": [
        "1. Cuales fueron las ventas totales?"
      ],
      "metadata": {
        "id": "vxcGIEUEcsvv"
      }
    },
    {
      "cell_type": "code",
      "source": [
        "data['Total Sales'].sum()"
      ],
      "metadata": {
        "id": "SdqqpyrTc4LK",
        "colab": {
          "base_uri": "https://localhost:8080/"
        },
        "outputId": "9132ef77-eeed-492a-a5db-ea75ab187185"
      },
      "execution_count": null,
      "outputs": [
        {
          "output_type": "execute_result",
          "data": {
            "text/plain": [
              "np.float64(899902125.0)"
            ]
          },
          "metadata": {},
          "execution_count": 65
        }
      ]
    },
    {
      "cell_type": "markdown",
      "source": [
        "1.1 Cuanto fue la ganancia operacional total?"
      ],
      "metadata": {
        "id": "J21TAd4ucz50"
      }
    },
    {
      "cell_type": "code",
      "source": [
        "data['Operating Profit'].sum()"
      ],
      "metadata": {
        "id": "MHiFtHy9dBX8",
        "colab": {
          "base_uri": "https://localhost:8080/"
        },
        "outputId": "1f77d1a8-1224-46b6-8655-235500c251a9"
      },
      "execution_count": null,
      "outputs": [
        {
          "output_type": "execute_result",
          "data": {
            "text/plain": [
              "np.float64(332134761.45000005)"
            ]
          },
          "metadata": {},
          "execution_count": 66
        }
      ]
    },
    {
      "cell_type": "markdown",
      "source": [
        "1.2 Cuanto fue el margen promedio total ?"
      ],
      "metadata": {
        "id": "Bmi_HUupc5hF"
      }
    },
    {
      "cell_type": "code",
      "source": [
        "data['Operating Margin'].mean()"
      ],
      "metadata": {
        "id": "0Ki_c74WdLcn",
        "colab": {
          "base_uri": "https://localhost:8080/"
        },
        "outputId": "526025ee-b8df-4244-d6e2-d7dbfdeaa828"
      },
      "execution_count": null,
      "outputs": [
        {
          "output_type": "execute_result",
          "data": {
            "text/plain": [
              "np.float64(0.42299129353233833)"
            ]
          },
          "metadata": {},
          "execution_count": 67
        }
      ]
    },
    {
      "cell_type": "markdown",
      "source": [
        "1.3 Por que el margen promedio y no el total. Explique con palabras"
      ],
      "metadata": {
        "id": "wKxBQAG-dYB5"
      }
    },
    {
      "cell_type": "markdown",
      "source": [
        "Porque se necesita saber en promedio cuánto es mi margen de ganancia en mi ventas, más no la suma del margen de ganancias, pues no serviria de nada y altetra mi analisis de datos."
      ],
      "metadata": {
        "id": "c0kRE5szVL5l"
      }
    },
    {
      "cell_type": "markdown",
      "source": [
        "2. Cuales fueron las ventas totales por Retailer?"
      ],
      "metadata": {
        "id": "sbRuC9tcdeJH"
      }
    },
    {
      "cell_type": "code",
      "source": [
        "data.groupby(\"Retailer\")[\"Total Sales\"].sum()"
      ],
      "metadata": {
        "id": "_PKizqqNdjYb",
        "colab": {
          "base_uri": "https://localhost:8080/",
          "height": 304
        },
        "outputId": "3013aa79-bc88-4ce0-fb96-7183b55ec10c"
      },
      "execution_count": null,
      "outputs": [
        {
          "output_type": "execute_result",
          "data": {
            "text/plain": [
              "Retailer\n",
              "Amazon           77,698,912.00\n",
              "Foot Locker     220,094,720.00\n",
              "Kohl's          102,114,753.00\n",
              "Sports Direct   182,470,997.00\n",
              "Walmart          74,558,410.00\n",
              "West Gear       242,964,333.00\n",
              "Name: Total Sales, dtype: float64"
            ],
            "text/html": [
              "<div>\n",
              "<style scoped>\n",
              "    .dataframe tbody tr th:only-of-type {\n",
              "        vertical-align: middle;\n",
              "    }\n",
              "\n",
              "    .dataframe tbody tr th {\n",
              "        vertical-align: top;\n",
              "    }\n",
              "\n",
              "    .dataframe thead th {\n",
              "        text-align: right;\n",
              "    }\n",
              "</style>\n",
              "<table border=\"1\" class=\"dataframe\">\n",
              "  <thead>\n",
              "    <tr style=\"text-align: right;\">\n",
              "      <th></th>\n",
              "      <th>Total Sales</th>\n",
              "    </tr>\n",
              "    <tr>\n",
              "      <th>Retailer</th>\n",
              "      <th></th>\n",
              "    </tr>\n",
              "  </thead>\n",
              "  <tbody>\n",
              "    <tr>\n",
              "      <th>Amazon</th>\n",
              "      <td>77,698,912.00</td>\n",
              "    </tr>\n",
              "    <tr>\n",
              "      <th>Foot Locker</th>\n",
              "      <td>220,094,720.00</td>\n",
              "    </tr>\n",
              "    <tr>\n",
              "      <th>Kohl's</th>\n",
              "      <td>102,114,753.00</td>\n",
              "    </tr>\n",
              "    <tr>\n",
              "      <th>Sports Direct</th>\n",
              "      <td>182,470,997.00</td>\n",
              "    </tr>\n",
              "    <tr>\n",
              "      <th>Walmart</th>\n",
              "      <td>74,558,410.00</td>\n",
              "    </tr>\n",
              "    <tr>\n",
              "      <th>West Gear</th>\n",
              "      <td>242,964,333.00</td>\n",
              "    </tr>\n",
              "  </tbody>\n",
              "</table>\n",
              "</div><br><label><b>dtype:</b> float64</label>"
            ]
          },
          "metadata": {},
          "execution_count": 68
        }
      ]
    },
    {
      "cell_type": "markdown",
      "source": [
        "2.1 Cual fue la ganancia operacional total por retailer?"
      ],
      "metadata": {
        "id": "s547mBNpdIQL"
      }
    },
    {
      "cell_type": "code",
      "source": [
        "data.groupby(\"Retailer\")[\"Operating Profit\"].sum()"
      ],
      "metadata": {
        "id": "IVNUjHDqdsIG",
        "colab": {
          "base_uri": "https://localhost:8080/",
          "height": 304
        },
        "outputId": "8e4fbab5-7e54-4591-b737-7c344bf754e5"
      },
      "execution_count": null,
      "outputs": [
        {
          "output_type": "execute_result",
          "data": {
            "text/plain": [
              "Retailer\n",
              "Amazon          28,818,503.31\n",
              "Foot Locker     80,722,124.81\n",
              "Kohl's          36,811,252.58\n",
              "Sports Direct   74,332,954.96\n",
              "Walmart         25,782,052.61\n",
              "West Gear       85,667,873.18\n",
              "Name: Operating Profit, dtype: float64"
            ],
            "text/html": [
              "<div>\n",
              "<style scoped>\n",
              "    .dataframe tbody tr th:only-of-type {\n",
              "        vertical-align: middle;\n",
              "    }\n",
              "\n",
              "    .dataframe tbody tr th {\n",
              "        vertical-align: top;\n",
              "    }\n",
              "\n",
              "    .dataframe thead th {\n",
              "        text-align: right;\n",
              "    }\n",
              "</style>\n",
              "<table border=\"1\" class=\"dataframe\">\n",
              "  <thead>\n",
              "    <tr style=\"text-align: right;\">\n",
              "      <th></th>\n",
              "      <th>Operating Profit</th>\n",
              "    </tr>\n",
              "    <tr>\n",
              "      <th>Retailer</th>\n",
              "      <th></th>\n",
              "    </tr>\n",
              "  </thead>\n",
              "  <tbody>\n",
              "    <tr>\n",
              "      <th>Amazon</th>\n",
              "      <td>28,818,503.31</td>\n",
              "    </tr>\n",
              "    <tr>\n",
              "      <th>Foot Locker</th>\n",
              "      <td>80,722,124.81</td>\n",
              "    </tr>\n",
              "    <tr>\n",
              "      <th>Kohl's</th>\n",
              "      <td>36,811,252.58</td>\n",
              "    </tr>\n",
              "    <tr>\n",
              "      <th>Sports Direct</th>\n",
              "      <td>74,332,954.96</td>\n",
              "    </tr>\n",
              "    <tr>\n",
              "      <th>Walmart</th>\n",
              "      <td>25,782,052.61</td>\n",
              "    </tr>\n",
              "    <tr>\n",
              "      <th>West Gear</th>\n",
              "      <td>85,667,873.18</td>\n",
              "    </tr>\n",
              "  </tbody>\n",
              "</table>\n",
              "</div><br><label><b>dtype:</b> float64</label>"
            ]
          },
          "metadata": {},
          "execution_count": 69
        }
      ]
    },
    {
      "cell_type": "markdown",
      "source": [
        "2.3 Tomando los dos resultados de arriba: El ganancia operacional total y las ventas totales divida ambos resultados. Le tiene que dar el margen total de cada Retailer."
      ],
      "metadata": {
        "id": "y-zjJuXNgvIH"
      }
    },
    {
      "cell_type": "code",
      "source": [
        "data.groupby(\"Retailer\")[\"Operating Profit\"].sum()/data.groupby(\"Retailer\")[\"Total Sales\"].sum()"
      ],
      "metadata": {
        "id": "YVsgR-ekd3aU",
        "colab": {
          "base_uri": "https://localhost:8080/",
          "height": 304
        },
        "outputId": "7dea5fcc-58cc-41f7-e9a4-d4819534d867"
      },
      "execution_count": null,
      "outputs": [
        {
          "output_type": "execute_result",
          "data": {
            "text/plain": [
              "Retailer\n",
              "Amazon          0.37\n",
              "Foot Locker     0.37\n",
              "Kohl's          0.36\n",
              "Sports Direct   0.41\n",
              "Walmart         0.35\n",
              "West Gear       0.35\n",
              "dtype: float64"
            ],
            "text/html": [
              "<div>\n",
              "<style scoped>\n",
              "    .dataframe tbody tr th:only-of-type {\n",
              "        vertical-align: middle;\n",
              "    }\n",
              "\n",
              "    .dataframe tbody tr th {\n",
              "        vertical-align: top;\n",
              "    }\n",
              "\n",
              "    .dataframe thead th {\n",
              "        text-align: right;\n",
              "    }\n",
              "</style>\n",
              "<table border=\"1\" class=\"dataframe\">\n",
              "  <thead>\n",
              "    <tr style=\"text-align: right;\">\n",
              "      <th></th>\n",
              "      <th>0</th>\n",
              "    </tr>\n",
              "    <tr>\n",
              "      <th>Retailer</th>\n",
              "      <th></th>\n",
              "    </tr>\n",
              "  </thead>\n",
              "  <tbody>\n",
              "    <tr>\n",
              "      <th>Amazon</th>\n",
              "      <td>0.37</td>\n",
              "    </tr>\n",
              "    <tr>\n",
              "      <th>Foot Locker</th>\n",
              "      <td>0.37</td>\n",
              "    </tr>\n",
              "    <tr>\n",
              "      <th>Kohl's</th>\n",
              "      <td>0.36</td>\n",
              "    </tr>\n",
              "    <tr>\n",
              "      <th>Sports Direct</th>\n",
              "      <td>0.41</td>\n",
              "    </tr>\n",
              "    <tr>\n",
              "      <th>Walmart</th>\n",
              "      <td>0.35</td>\n",
              "    </tr>\n",
              "    <tr>\n",
              "      <th>West Gear</th>\n",
              "      <td>0.35</td>\n",
              "    </tr>\n",
              "  </tbody>\n",
              "</table>\n",
              "</div><br><label><b>dtype:</b> float64</label>"
            ]
          },
          "metadata": {},
          "execution_count": 70
        }
      ]
    },
    {
      "cell_type": "markdown",
      "source": [
        "2.4 Cual fue el margen operacional promedio por retailer?"
      ],
      "metadata": {
        "id": "DjsKB3DleGh5"
      }
    },
    {
      "cell_type": "code",
      "source": [
        "data.groupby(\"Retailer\")[\"Operating Margin\"].mean()"
      ],
      "metadata": {
        "id": "7bDTruZZdrBm",
        "colab": {
          "base_uri": "https://localhost:8080/",
          "height": 304
        },
        "outputId": "26d7fa9f-fc77-42ba-d86f-33585317d86a"
      },
      "execution_count": null,
      "outputs": [
        {
          "output_type": "execute_result",
          "data": {
            "text/plain": [
              "Retailer\n",
              "Amazon          0.42\n",
              "Foot Locker     0.42\n",
              "Kohl's          0.42\n",
              "Sports Direct   0.44\n",
              "Walmart         0.41\n",
              "West Gear       0.42\n",
              "Name: Operating Margin, dtype: float64"
            ],
            "text/html": [
              "<div>\n",
              "<style scoped>\n",
              "    .dataframe tbody tr th:only-of-type {\n",
              "        vertical-align: middle;\n",
              "    }\n",
              "\n",
              "    .dataframe tbody tr th {\n",
              "        vertical-align: top;\n",
              "    }\n",
              "\n",
              "    .dataframe thead th {\n",
              "        text-align: right;\n",
              "    }\n",
              "</style>\n",
              "<table border=\"1\" class=\"dataframe\">\n",
              "  <thead>\n",
              "    <tr style=\"text-align: right;\">\n",
              "      <th></th>\n",
              "      <th>Operating Margin</th>\n",
              "    </tr>\n",
              "    <tr>\n",
              "      <th>Retailer</th>\n",
              "      <th></th>\n",
              "    </tr>\n",
              "  </thead>\n",
              "  <tbody>\n",
              "    <tr>\n",
              "      <th>Amazon</th>\n",
              "      <td>0.42</td>\n",
              "    </tr>\n",
              "    <tr>\n",
              "      <th>Foot Locker</th>\n",
              "      <td>0.42</td>\n",
              "    </tr>\n",
              "    <tr>\n",
              "      <th>Kohl's</th>\n",
              "      <td>0.42</td>\n",
              "    </tr>\n",
              "    <tr>\n",
              "      <th>Sports Direct</th>\n",
              "      <td>0.44</td>\n",
              "    </tr>\n",
              "    <tr>\n",
              "      <th>Walmart</th>\n",
              "      <td>0.41</td>\n",
              "    </tr>\n",
              "    <tr>\n",
              "      <th>West Gear</th>\n",
              "      <td>0.42</td>\n",
              "    </tr>\n",
              "  </tbody>\n",
              "</table>\n",
              "</div><br><label><b>dtype:</b> float64</label>"
            ]
          },
          "metadata": {},
          "execution_count": 71
        }
      ]
    },
    {
      "cell_type": "markdown",
      "source": [
        "2.5 Por que los dos resultados anteriores le dieron diferente? Argumente"
      ],
      "metadata": {
        "id": "YmJ4OroYhmhE"
      }
    },
    {
      "cell_type": "markdown",
      "source": [
        "Los resultados son diferentes porque la ganancia total mide volumen absoluto de ventas, mientras que el margen promedio mide rentabilidad relativa por transacción. Un retailer puede vender más en total pero con márgenes bajos, y otro vender menos pero con márgenes altos"
      ],
      "metadata": {
        "id": "tVQYL_7lhqgi"
      }
    },
    {
      "cell_type": "markdown",
      "source": [
        "3.1 Retailer que mas unidades totales vende? Saque cuanto vende en unidades cada retailer y busque el mayor"
      ],
      "metadata": {
        "id": "tP-lnVrqeNid"
      }
    },
    {
      "cell_type": "code",
      "source": [
        "unidades_retailer = data.groupby(\"Retailer\")[\"Units Sold\"].sum()\n",
        "unidades_retailer.sort_values(ascending=False).head(1)"
      ],
      "metadata": {
        "id": "EtVwdVDDeQGi",
        "colab": {
          "base_uri": "https://localhost:8080/",
          "height": 147
        },
        "outputId": "e4843191-7327-466e-d1c1-6e292d294278"
      },
      "execution_count": null,
      "outputs": [
        {
          "output_type": "execute_result",
          "data": {
            "text/plain": [
              "Retailer\n",
              "West Gear    625262\n",
              "Name: Units Sold, dtype: int64"
            ],
            "text/html": [
              "<div>\n",
              "<style scoped>\n",
              "    .dataframe tbody tr th:only-of-type {\n",
              "        vertical-align: middle;\n",
              "    }\n",
              "\n",
              "    .dataframe tbody tr th {\n",
              "        vertical-align: top;\n",
              "    }\n",
              "\n",
              "    .dataframe thead th {\n",
              "        text-align: right;\n",
              "    }\n",
              "</style>\n",
              "<table border=\"1\" class=\"dataframe\">\n",
              "  <thead>\n",
              "    <tr style=\"text-align: right;\">\n",
              "      <th></th>\n",
              "      <th>Units Sold</th>\n",
              "    </tr>\n",
              "    <tr>\n",
              "      <th>Retailer</th>\n",
              "      <th></th>\n",
              "    </tr>\n",
              "  </thead>\n",
              "  <tbody>\n",
              "    <tr>\n",
              "      <th>West Gear</th>\n",
              "      <td>625262</td>\n",
              "    </tr>\n",
              "  </tbody>\n",
              "</table>\n",
              "</div><br><label><b>dtype:</b> int64</label>"
            ]
          },
          "metadata": {},
          "execution_count": 72
        }
      ]
    },
    {
      "cell_type": "markdown",
      "source": [
        "3.2 Cual fue el producto que mas unidades totales vendió?"
      ],
      "metadata": {
        "id": "R6AjU01lgeq9"
      }
    },
    {
      "cell_type": "code",
      "source": [
        "unidades_producto = data.groupby(\"Product\")[\"Units Sold\"].sum()\n",
        "unidades_producto.sort_values(ascending=False).head(1)"
      ],
      "metadata": {
        "id": "NgwCc3JAe_6L",
        "colab": {
          "base_uri": "https://localhost:8080/",
          "height": 147
        },
        "outputId": "f9f23d94-340b-4b20-ce51-8f7cd950356c"
      },
      "execution_count": null,
      "outputs": [
        {
          "output_type": "execute_result",
          "data": {
            "text/plain": [
              "Product\n",
              "Men's Street Footwear    593320\n",
              "Name: Units Sold, dtype: int64"
            ],
            "text/html": [
              "<div>\n",
              "<style scoped>\n",
              "    .dataframe tbody tr th:only-of-type {\n",
              "        vertical-align: middle;\n",
              "    }\n",
              "\n",
              "    .dataframe tbody tr th {\n",
              "        vertical-align: top;\n",
              "    }\n",
              "\n",
              "    .dataframe thead th {\n",
              "        text-align: right;\n",
              "    }\n",
              "</style>\n",
              "<table border=\"1\" class=\"dataframe\">\n",
              "  <thead>\n",
              "    <tr style=\"text-align: right;\">\n",
              "      <th></th>\n",
              "      <th>Units Sold</th>\n",
              "    </tr>\n",
              "    <tr>\n",
              "      <th>Product</th>\n",
              "      <th></th>\n",
              "    </tr>\n",
              "  </thead>\n",
              "  <tbody>\n",
              "    <tr>\n",
              "      <th>Men's Street Footwear</th>\n",
              "      <td>593320</td>\n",
              "    </tr>\n",
              "  </tbody>\n",
              "</table>\n",
              "</div><br><label><b>dtype:</b> int64</label>"
            ]
          },
          "metadata": {},
          "execution_count": 73
        }
      ]
    },
    {
      "cell_type": "markdown",
      "source": [
        "3.3 Cual es el metodo de venta que mas ventas totales tuvo y más ventas promedio"
      ],
      "metadata": {
        "id": "AcwamUt_gUtH"
      }
    },
    {
      "cell_type": "code",
      "source": [
        "data.groupby(\"Sales Method\")[\"Total Sales\"].agg([\"sum\",\"mean\"]).sort_values(\"sum\",ascending=False).head(1)\n",
        "\n",
        "\n",
        "\n",
        "\n"
      ],
      "metadata": {
        "id": "n2MXmpekfKZH",
        "colab": {
          "base_uri": "https://localhost:8080/",
          "height": 112
        },
        "outputId": "877a9c1c-744d-4661-98de-324020c98eec"
      },
      "execution_count": null,
      "outputs": [
        {
          "output_type": "execute_result",
          "data": {
            "text/plain": [
              "                        sum       mean\n",
              "Sales Method                          \n",
              "In-store     356,643,750.00 204,967.67"
            ],
            "text/html": [
              "\n",
              "  <div id=\"df-a2c3924b-e3bf-48c9-b2b9-dc9da7cd17a7\" class=\"colab-df-container\">\n",
              "    <div>\n",
              "<style scoped>\n",
              "    .dataframe tbody tr th:only-of-type {\n",
              "        vertical-align: middle;\n",
              "    }\n",
              "\n",
              "    .dataframe tbody tr th {\n",
              "        vertical-align: top;\n",
              "    }\n",
              "\n",
              "    .dataframe thead th {\n",
              "        text-align: right;\n",
              "    }\n",
              "</style>\n",
              "<table border=\"1\" class=\"dataframe\">\n",
              "  <thead>\n",
              "    <tr style=\"text-align: right;\">\n",
              "      <th></th>\n",
              "      <th>sum</th>\n",
              "      <th>mean</th>\n",
              "    </tr>\n",
              "    <tr>\n",
              "      <th>Sales Method</th>\n",
              "      <th></th>\n",
              "      <th></th>\n",
              "    </tr>\n",
              "  </thead>\n",
              "  <tbody>\n",
              "    <tr>\n",
              "      <th>In-store</th>\n",
              "      <td>356,643,750.00</td>\n",
              "      <td>204,967.67</td>\n",
              "    </tr>\n",
              "  </tbody>\n",
              "</table>\n",
              "</div>\n",
              "    <div class=\"colab-df-buttons\">\n",
              "\n",
              "  <div class=\"colab-df-container\">\n",
              "    <button class=\"colab-df-convert\" onclick=\"convertToInteractive('df-a2c3924b-e3bf-48c9-b2b9-dc9da7cd17a7')\"\n",
              "            title=\"Convert this dataframe to an interactive table.\"\n",
              "            style=\"display:none;\">\n",
              "\n",
              "  <svg xmlns=\"http://www.w3.org/2000/svg\" height=\"24px\" viewBox=\"0 -960 960 960\">\n",
              "    <path d=\"M120-120v-720h720v720H120Zm60-500h600v-160H180v160Zm220 220h160v-160H400v160Zm0 220h160v-160H400v160ZM180-400h160v-160H180v160Zm440 0h160v-160H620v160ZM180-180h160v-160H180v160Zm440 0h160v-160H620v160Z\"/>\n",
              "  </svg>\n",
              "    </button>\n",
              "\n",
              "  <style>\n",
              "    .colab-df-container {\n",
              "      display:flex;\n",
              "      gap: 12px;\n",
              "    }\n",
              "\n",
              "    .colab-df-convert {\n",
              "      background-color: #E8F0FE;\n",
              "      border: none;\n",
              "      border-radius: 50%;\n",
              "      cursor: pointer;\n",
              "      display: none;\n",
              "      fill: #1967D2;\n",
              "      height: 32px;\n",
              "      padding: 0 0 0 0;\n",
              "      width: 32px;\n",
              "    }\n",
              "\n",
              "    .colab-df-convert:hover {\n",
              "      background-color: #E2EBFA;\n",
              "      box-shadow: 0px 1px 2px rgba(60, 64, 67, 0.3), 0px 1px 3px 1px rgba(60, 64, 67, 0.15);\n",
              "      fill: #174EA6;\n",
              "    }\n",
              "\n",
              "    .colab-df-buttons div {\n",
              "      margin-bottom: 4px;\n",
              "    }\n",
              "\n",
              "    [theme=dark] .colab-df-convert {\n",
              "      background-color: #3B4455;\n",
              "      fill: #D2E3FC;\n",
              "    }\n",
              "\n",
              "    [theme=dark] .colab-df-convert:hover {\n",
              "      background-color: #434B5C;\n",
              "      box-shadow: 0px 1px 3px 1px rgba(0, 0, 0, 0.15);\n",
              "      filter: drop-shadow(0px 1px 2px rgba(0, 0, 0, 0.3));\n",
              "      fill: #FFFFFF;\n",
              "    }\n",
              "  </style>\n",
              "\n",
              "    <script>\n",
              "      const buttonEl =\n",
              "        document.querySelector('#df-a2c3924b-e3bf-48c9-b2b9-dc9da7cd17a7 button.colab-df-convert');\n",
              "      buttonEl.style.display =\n",
              "        google.colab.kernel.accessAllowed ? 'block' : 'none';\n",
              "\n",
              "      async function convertToInteractive(key) {\n",
              "        const element = document.querySelector('#df-a2c3924b-e3bf-48c9-b2b9-dc9da7cd17a7');\n",
              "        const dataTable =\n",
              "          await google.colab.kernel.invokeFunction('convertToInteractive',\n",
              "                                                    [key], {});\n",
              "        if (!dataTable) return;\n",
              "\n",
              "        const docLinkHtml = 'Like what you see? Visit the ' +\n",
              "          '<a target=\"_blank\" href=https://colab.research.google.com/notebooks/data_table.ipynb>data table notebook</a>'\n",
              "          + ' to learn more about interactive tables.';\n",
              "        element.innerHTML = '';\n",
              "        dataTable['output_type'] = 'display_data';\n",
              "        await google.colab.output.renderOutput(dataTable, element);\n",
              "        const docLink = document.createElement('div');\n",
              "        docLink.innerHTML = docLinkHtml;\n",
              "        element.appendChild(docLink);\n",
              "      }\n",
              "    </script>\n",
              "  </div>\n",
              "\n",
              "\n",
              "    </div>\n",
              "  </div>\n"
            ],
            "application/vnd.google.colaboratory.intrinsic+json": {
              "type": "dataframe",
              "summary": "{\n  \"name\": \"data\",\n  \"rows\": 1,\n  \"fields\": [\n    {\n      \"column\": \"Sales Method\",\n      \"properties\": {\n        \"dtype\": \"string\",\n        \"num_unique_values\": 1,\n        \"samples\": [\n          \"In-store\"\n        ],\n        \"semantic_type\": \"\",\n        \"description\": \"\"\n      }\n    },\n    {\n      \"column\": \"sum\",\n      \"properties\": {\n        \"dtype\": \"number\",\n        \"std\": null,\n        \"min\": 356643750.0,\n        \"max\": 356643750.0,\n        \"num_unique_values\": 1,\n        \"samples\": [\n          356643750.0\n        ],\n        \"semantic_type\": \"\",\n        \"description\": \"\"\n      }\n    },\n    {\n      \"column\": \"mean\",\n      \"properties\": {\n        \"dtype\": \"number\",\n        \"std\": null,\n        \"min\": 204967.6724137931,\n        \"max\": 204967.6724137931,\n        \"num_unique_values\": 1,\n        \"samples\": [\n          204967.6724137931\n        ],\n        \"semantic_type\": \"\",\n        \"description\": \"\"\n      }\n    }\n  ]\n}"
            }
          },
          "metadata": {},
          "execution_count": 74
        }
      ]
    },
    {
      "cell_type": "markdown",
      "source": [
        "3.4 Cual Fue el estado que más ventas totales tuvo ?"
      ],
      "metadata": {
        "id": "e7FNpAd5ilp5"
      }
    },
    {
      "cell_type": "code",
      "source": [
        "ventas_estado = data.groupby(\"State\")[\"Total Sales\"].sum()\n",
        "ventas_estado.sort_values(ascending=False).head(1)"
      ],
      "metadata": {
        "id": "JKcFXeKHip-V",
        "colab": {
          "base_uri": "https://localhost:8080/",
          "height": 147
        },
        "outputId": "694ecb1f-7c78-4edd-a401-d2c7c6754fd5"
      },
      "execution_count": null,
      "outputs": [
        {
          "output_type": "execute_result",
          "data": {
            "text/plain": [
              "State\n",
              "New York   64,229,039.00\n",
              "Name: Total Sales, dtype: float64"
            ],
            "text/html": [
              "<div>\n",
              "<style scoped>\n",
              "    .dataframe tbody tr th:only-of-type {\n",
              "        vertical-align: middle;\n",
              "    }\n",
              "\n",
              "    .dataframe tbody tr th {\n",
              "        vertical-align: top;\n",
              "    }\n",
              "\n",
              "    .dataframe thead th {\n",
              "        text-align: right;\n",
              "    }\n",
              "</style>\n",
              "<table border=\"1\" class=\"dataframe\">\n",
              "  <thead>\n",
              "    <tr style=\"text-align: right;\">\n",
              "      <th></th>\n",
              "      <th>Total Sales</th>\n",
              "    </tr>\n",
              "    <tr>\n",
              "      <th>State</th>\n",
              "      <th></th>\n",
              "    </tr>\n",
              "  </thead>\n",
              "  <tbody>\n",
              "    <tr>\n",
              "      <th>New York</th>\n",
              "      <td>64,229,039.00</td>\n",
              "    </tr>\n",
              "  </tbody>\n",
              "</table>\n",
              "</div><br><label><b>dtype:</b> float64</label>"
            ]
          },
          "metadata": {},
          "execution_count": 75
        }
      ]
    },
    {
      "cell_type": "markdown",
      "source": [
        "4. Teniendo en cuenta los resultados de arriba: 1. Tome el Retailer que vendio\n",
        "mas 2. El estado que vendio mas 3.el producto que vendio mas y el metodo de ventas que vendio más 4. Filtre y genere un dataframe con ellos 5. llamelo como un nuevo dataframe"
      ],
      "metadata": {
        "id": "shW2W9ugfJkf"
      }
    },
    {
      "cell_type": "code",
      "source": [
        "\n",
        "top_retailer = data.groupby(\"Retailer\")[\"Total Sales\"].sum().idxmax()\n",
        "\n",
        "top_state = data.groupby(\"State\")[\"Total Sales\"].sum().idxmax()\n",
        "\n",
        "top_product = data.groupby(\"Product\")[\"Units Sold\"].sum().idxmax()\n",
        "\n",
        "top_method = data.groupby(\"Sales Method\")[\"Total Sales\"].sum().idxmax()\n",
        "\n",
        "filtros = (\n",
        "    (data[\"Retailer\"] == top_retailer) &\n",
        "    (data[\"State\"] == top_state) &\n",
        "    (data[\"Product\"] == top_product) &\n",
        "    (data[\"Sales Method\"] == top_method)\n",
        ")\n",
        "\n",
        "nuevo_df = data[filtros]\n",
        "nuevo_df\n",
        "\n",
        "\n",
        "\n"
      ],
      "metadata": {
        "id": "0GDnp-AjiI7q",
        "colab": {
          "base_uri": "https://localhost:8080/",
          "height": 554
        },
        "outputId": "9cf35eb1-6125-4a5c-fd0a-8f4c8a93e08f"
      },
      "execution_count": null,
      "outputs": [
        {
          "output_type": "execute_result",
          "data": {
            "text/plain": [
              "       Retailer  Retailer ID Invoice Date     Region     State    City  \\\n",
              "1443  West Gear      1185732   2021-03-08  Northeast  New York  Albany   \n",
              "1449  West Gear      1185732   2021-04-09  Northeast  New York  Albany   \n",
              "1455  West Gear      1185732   2021-05-08  Northeast  New York  Albany   \n",
              "1461  West Gear      1185732   2021-06-10  Northeast  New York  Albany   \n",
              "1467  West Gear      1185732   2021-07-08  Northeast  New York  Albany   \n",
              "1473  West Gear      1185732   2021-08-09  Northeast  New York  Albany   \n",
              "1479  West Gear      1185732   2021-09-08  Northeast  New York  Albany   \n",
              "1485  West Gear      1185732   2021-10-10  Northeast  New York  Albany   \n",
              "1491  West Gear      1185732   2021-11-09  Northeast  New York  Albany   \n",
              "1497  West Gear      1185732   2021-12-08  Northeast  New York  Albany   \n",
              "\n",
              "                    Product  Price per Unit  Units Sold  Total Sales  \\\n",
              "1443  Men's Street Footwear           45.00         870   391,500.00   \n",
              "1449  Men's Street Footwear           45.00         825   371,250.00   \n",
              "1455  Men's Street Footwear           55.00         870   478,500.00   \n",
              "1461  Men's Street Footwear           60.00         875   525,000.00   \n",
              "1467  Men's Street Footwear           65.00         950   617,500.00   \n",
              "1473  Men's Street Footwear           65.00         925   601,250.00   \n",
              "1479  Men's Street Footwear           55.00         850   467,500.00   \n",
              "1485  Men's Street Footwear           60.00         800   480,000.00   \n",
              "1491  Men's Street Footwear           60.00         775   465,000.00   \n",
              "1497  Men's Street Footwear           65.00         875   568,750.00   \n",
              "\n",
              "      Operating Profit  Operating Margin Sales Method  \n",
              "1443        176,175.00              0.45     In-store  \n",
              "1449        167,062.50              0.45     In-store  \n",
              "1455        215,325.00              0.45     In-store  \n",
              "1461        236,250.00              0.45     In-store  \n",
              "1467        277,875.00              0.45     In-store  \n",
              "1473        270,562.50              0.45     In-store  \n",
              "1479        210,375.00              0.45     In-store  \n",
              "1485        216,000.00              0.45     In-store  \n",
              "1491        209,250.00              0.45     In-store  \n",
              "1497        255,937.50              0.45     In-store  "
            ],
            "text/html": [
              "\n",
              "  <div id=\"df-55ce2833-5d40-4bae-8e92-30e2fc84e632\" class=\"colab-df-container\">\n",
              "    <div>\n",
              "<style scoped>\n",
              "    .dataframe tbody tr th:only-of-type {\n",
              "        vertical-align: middle;\n",
              "    }\n",
              "\n",
              "    .dataframe tbody tr th {\n",
              "        vertical-align: top;\n",
              "    }\n",
              "\n",
              "    .dataframe thead th {\n",
              "        text-align: right;\n",
              "    }\n",
              "</style>\n",
              "<table border=\"1\" class=\"dataframe\">\n",
              "  <thead>\n",
              "    <tr style=\"text-align: right;\">\n",
              "      <th></th>\n",
              "      <th>Retailer</th>\n",
              "      <th>Retailer ID</th>\n",
              "      <th>Invoice Date</th>\n",
              "      <th>Region</th>\n",
              "      <th>State</th>\n",
              "      <th>City</th>\n",
              "      <th>Product</th>\n",
              "      <th>Price per Unit</th>\n",
              "      <th>Units Sold</th>\n",
              "      <th>Total Sales</th>\n",
              "      <th>Operating Profit</th>\n",
              "      <th>Operating Margin</th>\n",
              "      <th>Sales Method</th>\n",
              "    </tr>\n",
              "  </thead>\n",
              "  <tbody>\n",
              "    <tr>\n",
              "      <th>1443</th>\n",
              "      <td>West Gear</td>\n",
              "      <td>1185732</td>\n",
              "      <td>2021-03-08</td>\n",
              "      <td>Northeast</td>\n",
              "      <td>New York</td>\n",
              "      <td>Albany</td>\n",
              "      <td>Men's Street Footwear</td>\n",
              "      <td>45.00</td>\n",
              "      <td>870</td>\n",
              "      <td>391,500.00</td>\n",
              "      <td>176,175.00</td>\n",
              "      <td>0.45</td>\n",
              "      <td>In-store</td>\n",
              "    </tr>\n",
              "    <tr>\n",
              "      <th>1449</th>\n",
              "      <td>West Gear</td>\n",
              "      <td>1185732</td>\n",
              "      <td>2021-04-09</td>\n",
              "      <td>Northeast</td>\n",
              "      <td>New York</td>\n",
              "      <td>Albany</td>\n",
              "      <td>Men's Street Footwear</td>\n",
              "      <td>45.00</td>\n",
              "      <td>825</td>\n",
              "      <td>371,250.00</td>\n",
              "      <td>167,062.50</td>\n",
              "      <td>0.45</td>\n",
              "      <td>In-store</td>\n",
              "    </tr>\n",
              "    <tr>\n",
              "      <th>1455</th>\n",
              "      <td>West Gear</td>\n",
              "      <td>1185732</td>\n",
              "      <td>2021-05-08</td>\n",
              "      <td>Northeast</td>\n",
              "      <td>New York</td>\n",
              "      <td>Albany</td>\n",
              "      <td>Men's Street Footwear</td>\n",
              "      <td>55.00</td>\n",
              "      <td>870</td>\n",
              "      <td>478,500.00</td>\n",
              "      <td>215,325.00</td>\n",
              "      <td>0.45</td>\n",
              "      <td>In-store</td>\n",
              "    </tr>\n",
              "    <tr>\n",
              "      <th>1461</th>\n",
              "      <td>West Gear</td>\n",
              "      <td>1185732</td>\n",
              "      <td>2021-06-10</td>\n",
              "      <td>Northeast</td>\n",
              "      <td>New York</td>\n",
              "      <td>Albany</td>\n",
              "      <td>Men's Street Footwear</td>\n",
              "      <td>60.00</td>\n",
              "      <td>875</td>\n",
              "      <td>525,000.00</td>\n",
              "      <td>236,250.00</td>\n",
              "      <td>0.45</td>\n",
              "      <td>In-store</td>\n",
              "    </tr>\n",
              "    <tr>\n",
              "      <th>1467</th>\n",
              "      <td>West Gear</td>\n",
              "      <td>1185732</td>\n",
              "      <td>2021-07-08</td>\n",
              "      <td>Northeast</td>\n",
              "      <td>New York</td>\n",
              "      <td>Albany</td>\n",
              "      <td>Men's Street Footwear</td>\n",
              "      <td>65.00</td>\n",
              "      <td>950</td>\n",
              "      <td>617,500.00</td>\n",
              "      <td>277,875.00</td>\n",
              "      <td>0.45</td>\n",
              "      <td>In-store</td>\n",
              "    </tr>\n",
              "    <tr>\n",
              "      <th>1473</th>\n",
              "      <td>West Gear</td>\n",
              "      <td>1185732</td>\n",
              "      <td>2021-08-09</td>\n",
              "      <td>Northeast</td>\n",
              "      <td>New York</td>\n",
              "      <td>Albany</td>\n",
              "      <td>Men's Street Footwear</td>\n",
              "      <td>65.00</td>\n",
              "      <td>925</td>\n",
              "      <td>601,250.00</td>\n",
              "      <td>270,562.50</td>\n",
              "      <td>0.45</td>\n",
              "      <td>In-store</td>\n",
              "    </tr>\n",
              "    <tr>\n",
              "      <th>1479</th>\n",
              "      <td>West Gear</td>\n",
              "      <td>1185732</td>\n",
              "      <td>2021-09-08</td>\n",
              "      <td>Northeast</td>\n",
              "      <td>New York</td>\n",
              "      <td>Albany</td>\n",
              "      <td>Men's Street Footwear</td>\n",
              "      <td>55.00</td>\n",
              "      <td>850</td>\n",
              "      <td>467,500.00</td>\n",
              "      <td>210,375.00</td>\n",
              "      <td>0.45</td>\n",
              "      <td>In-store</td>\n",
              "    </tr>\n",
              "    <tr>\n",
              "      <th>1485</th>\n",
              "      <td>West Gear</td>\n",
              "      <td>1185732</td>\n",
              "      <td>2021-10-10</td>\n",
              "      <td>Northeast</td>\n",
              "      <td>New York</td>\n",
              "      <td>Albany</td>\n",
              "      <td>Men's Street Footwear</td>\n",
              "      <td>60.00</td>\n",
              "      <td>800</td>\n",
              "      <td>480,000.00</td>\n",
              "      <td>216,000.00</td>\n",
              "      <td>0.45</td>\n",
              "      <td>In-store</td>\n",
              "    </tr>\n",
              "    <tr>\n",
              "      <th>1491</th>\n",
              "      <td>West Gear</td>\n",
              "      <td>1185732</td>\n",
              "      <td>2021-11-09</td>\n",
              "      <td>Northeast</td>\n",
              "      <td>New York</td>\n",
              "      <td>Albany</td>\n",
              "      <td>Men's Street Footwear</td>\n",
              "      <td>60.00</td>\n",
              "      <td>775</td>\n",
              "      <td>465,000.00</td>\n",
              "      <td>209,250.00</td>\n",
              "      <td>0.45</td>\n",
              "      <td>In-store</td>\n",
              "    </tr>\n",
              "    <tr>\n",
              "      <th>1497</th>\n",
              "      <td>West Gear</td>\n",
              "      <td>1185732</td>\n",
              "      <td>2021-12-08</td>\n",
              "      <td>Northeast</td>\n",
              "      <td>New York</td>\n",
              "      <td>Albany</td>\n",
              "      <td>Men's Street Footwear</td>\n",
              "      <td>65.00</td>\n",
              "      <td>875</td>\n",
              "      <td>568,750.00</td>\n",
              "      <td>255,937.50</td>\n",
              "      <td>0.45</td>\n",
              "      <td>In-store</td>\n",
              "    </tr>\n",
              "  </tbody>\n",
              "</table>\n",
              "</div>\n",
              "    <div class=\"colab-df-buttons\">\n",
              "\n",
              "  <div class=\"colab-df-container\">\n",
              "    <button class=\"colab-df-convert\" onclick=\"convertToInteractive('df-55ce2833-5d40-4bae-8e92-30e2fc84e632')\"\n",
              "            title=\"Convert this dataframe to an interactive table.\"\n",
              "            style=\"display:none;\">\n",
              "\n",
              "  <svg xmlns=\"http://www.w3.org/2000/svg\" height=\"24px\" viewBox=\"0 -960 960 960\">\n",
              "    <path d=\"M120-120v-720h720v720H120Zm60-500h600v-160H180v160Zm220 220h160v-160H400v160Zm0 220h160v-160H400v160ZM180-400h160v-160H180v160Zm440 0h160v-160H620v160ZM180-180h160v-160H180v160Zm440 0h160v-160H620v160Z\"/>\n",
              "  </svg>\n",
              "    </button>\n",
              "\n",
              "  <style>\n",
              "    .colab-df-container {\n",
              "      display:flex;\n",
              "      gap: 12px;\n",
              "    }\n",
              "\n",
              "    .colab-df-convert {\n",
              "      background-color: #E8F0FE;\n",
              "      border: none;\n",
              "      border-radius: 50%;\n",
              "      cursor: pointer;\n",
              "      display: none;\n",
              "      fill: #1967D2;\n",
              "      height: 32px;\n",
              "      padding: 0 0 0 0;\n",
              "      width: 32px;\n",
              "    }\n",
              "\n",
              "    .colab-df-convert:hover {\n",
              "      background-color: #E2EBFA;\n",
              "      box-shadow: 0px 1px 2px rgba(60, 64, 67, 0.3), 0px 1px 3px 1px rgba(60, 64, 67, 0.15);\n",
              "      fill: #174EA6;\n",
              "    }\n",
              "\n",
              "    .colab-df-buttons div {\n",
              "      margin-bottom: 4px;\n",
              "    }\n",
              "\n",
              "    [theme=dark] .colab-df-convert {\n",
              "      background-color: #3B4455;\n",
              "      fill: #D2E3FC;\n",
              "    }\n",
              "\n",
              "    [theme=dark] .colab-df-convert:hover {\n",
              "      background-color: #434B5C;\n",
              "      box-shadow: 0px 1px 3px 1px rgba(0, 0, 0, 0.15);\n",
              "      filter: drop-shadow(0px 1px 2px rgba(0, 0, 0, 0.3));\n",
              "      fill: #FFFFFF;\n",
              "    }\n",
              "  </style>\n",
              "\n",
              "    <script>\n",
              "      const buttonEl =\n",
              "        document.querySelector('#df-55ce2833-5d40-4bae-8e92-30e2fc84e632 button.colab-df-convert');\n",
              "      buttonEl.style.display =\n",
              "        google.colab.kernel.accessAllowed ? 'block' : 'none';\n",
              "\n",
              "      async function convertToInteractive(key) {\n",
              "        const element = document.querySelector('#df-55ce2833-5d40-4bae-8e92-30e2fc84e632');\n",
              "        const dataTable =\n",
              "          await google.colab.kernel.invokeFunction('convertToInteractive',\n",
              "                                                    [key], {});\n",
              "        if (!dataTable) return;\n",
              "\n",
              "        const docLinkHtml = 'Like what you see? Visit the ' +\n",
              "          '<a target=\"_blank\" href=https://colab.research.google.com/notebooks/data_table.ipynb>data table notebook</a>'\n",
              "          + ' to learn more about interactive tables.';\n",
              "        element.innerHTML = '';\n",
              "        dataTable['output_type'] = 'display_data';\n",
              "        await google.colab.output.renderOutput(dataTable, element);\n",
              "        const docLink = document.createElement('div');\n",
              "        docLink.innerHTML = docLinkHtml;\n",
              "        element.appendChild(docLink);\n",
              "      }\n",
              "    </script>\n",
              "  </div>\n",
              "\n",
              "\n",
              "    <div id=\"df-ad1019ed-1894-48ef-84d2-555422330a5b\">\n",
              "      <button class=\"colab-df-quickchart\" onclick=\"quickchart('df-ad1019ed-1894-48ef-84d2-555422330a5b')\"\n",
              "                title=\"Suggest charts\"\n",
              "                style=\"display:none;\">\n",
              "\n",
              "<svg xmlns=\"http://www.w3.org/2000/svg\" height=\"24px\"viewBox=\"0 0 24 24\"\n",
              "     width=\"24px\">\n",
              "    <g>\n",
              "        <path d=\"M19 3H5c-1.1 0-2 .9-2 2v14c0 1.1.9 2 2 2h14c1.1 0 2-.9 2-2V5c0-1.1-.9-2-2-2zM9 17H7v-7h2v7zm4 0h-2V7h2v10zm4 0h-2v-4h2v4z\"/>\n",
              "    </g>\n",
              "</svg>\n",
              "      </button>\n",
              "\n",
              "<style>\n",
              "  .colab-df-quickchart {\n",
              "      --bg-color: #E8F0FE;\n",
              "      --fill-color: #1967D2;\n",
              "      --hover-bg-color: #E2EBFA;\n",
              "      --hover-fill-color: #174EA6;\n",
              "      --disabled-fill-color: #AAA;\n",
              "      --disabled-bg-color: #DDD;\n",
              "  }\n",
              "\n",
              "  [theme=dark] .colab-df-quickchart {\n",
              "      --bg-color: #3B4455;\n",
              "      --fill-color: #D2E3FC;\n",
              "      --hover-bg-color: #434B5C;\n",
              "      --hover-fill-color: #FFFFFF;\n",
              "      --disabled-bg-color: #3B4455;\n",
              "      --disabled-fill-color: #666;\n",
              "  }\n",
              "\n",
              "  .colab-df-quickchart {\n",
              "    background-color: var(--bg-color);\n",
              "    border: none;\n",
              "    border-radius: 50%;\n",
              "    cursor: pointer;\n",
              "    display: none;\n",
              "    fill: var(--fill-color);\n",
              "    height: 32px;\n",
              "    padding: 0;\n",
              "    width: 32px;\n",
              "  }\n",
              "\n",
              "  .colab-df-quickchart:hover {\n",
              "    background-color: var(--hover-bg-color);\n",
              "    box-shadow: 0 1px 2px rgba(60, 64, 67, 0.3), 0 1px 3px 1px rgba(60, 64, 67, 0.15);\n",
              "    fill: var(--button-hover-fill-color);\n",
              "  }\n",
              "\n",
              "  .colab-df-quickchart-complete:disabled,\n",
              "  .colab-df-quickchart-complete:disabled:hover {\n",
              "    background-color: var(--disabled-bg-color);\n",
              "    fill: var(--disabled-fill-color);\n",
              "    box-shadow: none;\n",
              "  }\n",
              "\n",
              "  .colab-df-spinner {\n",
              "    border: 2px solid var(--fill-color);\n",
              "    border-color: transparent;\n",
              "    border-bottom-color: var(--fill-color);\n",
              "    animation:\n",
              "      spin 1s steps(1) infinite;\n",
              "  }\n",
              "\n",
              "  @keyframes spin {\n",
              "    0% {\n",
              "      border-color: transparent;\n",
              "      border-bottom-color: var(--fill-color);\n",
              "      border-left-color: var(--fill-color);\n",
              "    }\n",
              "    20% {\n",
              "      border-color: transparent;\n",
              "      border-left-color: var(--fill-color);\n",
              "      border-top-color: var(--fill-color);\n",
              "    }\n",
              "    30% {\n",
              "      border-color: transparent;\n",
              "      border-left-color: var(--fill-color);\n",
              "      border-top-color: var(--fill-color);\n",
              "      border-right-color: var(--fill-color);\n",
              "    }\n",
              "    40% {\n",
              "      border-color: transparent;\n",
              "      border-right-color: var(--fill-color);\n",
              "      border-top-color: var(--fill-color);\n",
              "    }\n",
              "    60% {\n",
              "      border-color: transparent;\n",
              "      border-right-color: var(--fill-color);\n",
              "    }\n",
              "    80% {\n",
              "      border-color: transparent;\n",
              "      border-right-color: var(--fill-color);\n",
              "      border-bottom-color: var(--fill-color);\n",
              "    }\n",
              "    90% {\n",
              "      border-color: transparent;\n",
              "      border-bottom-color: var(--fill-color);\n",
              "    }\n",
              "  }\n",
              "</style>\n",
              "\n",
              "      <script>\n",
              "        async function quickchart(key) {\n",
              "          const quickchartButtonEl =\n",
              "            document.querySelector('#' + key + ' button');\n",
              "          quickchartButtonEl.disabled = true;  // To prevent multiple clicks.\n",
              "          quickchartButtonEl.classList.add('colab-df-spinner');\n",
              "          try {\n",
              "            const charts = await google.colab.kernel.invokeFunction(\n",
              "                'suggestCharts', [key], {});\n",
              "          } catch (error) {\n",
              "            console.error('Error during call to suggestCharts:', error);\n",
              "          }\n",
              "          quickchartButtonEl.classList.remove('colab-df-spinner');\n",
              "          quickchartButtonEl.classList.add('colab-df-quickchart-complete');\n",
              "        }\n",
              "        (() => {\n",
              "          let quickchartButtonEl =\n",
              "            document.querySelector('#df-ad1019ed-1894-48ef-84d2-555422330a5b button');\n",
              "          quickchartButtonEl.style.display =\n",
              "            google.colab.kernel.accessAllowed ? 'block' : 'none';\n",
              "        })();\n",
              "      </script>\n",
              "    </div>\n",
              "\n",
              "  <div id=\"id_fbbb0994-aeee-4f51-ac83-2d53f08fc928\">\n",
              "    <style>\n",
              "      .colab-df-generate {\n",
              "        background-color: #E8F0FE;\n",
              "        border: none;\n",
              "        border-radius: 50%;\n",
              "        cursor: pointer;\n",
              "        display: none;\n",
              "        fill: #1967D2;\n",
              "        height: 32px;\n",
              "        padding: 0 0 0 0;\n",
              "        width: 32px;\n",
              "      }\n",
              "\n",
              "      .colab-df-generate:hover {\n",
              "        background-color: #E2EBFA;\n",
              "        box-shadow: 0px 1px 2px rgba(60, 64, 67, 0.3), 0px 1px 3px 1px rgba(60, 64, 67, 0.15);\n",
              "        fill: #174EA6;\n",
              "      }\n",
              "\n",
              "      [theme=dark] .colab-df-generate {\n",
              "        background-color: #3B4455;\n",
              "        fill: #D2E3FC;\n",
              "      }\n",
              "\n",
              "      [theme=dark] .colab-df-generate:hover {\n",
              "        background-color: #434B5C;\n",
              "        box-shadow: 0px 1px 3px 1px rgba(0, 0, 0, 0.15);\n",
              "        filter: drop-shadow(0px 1px 2px rgba(0, 0, 0, 0.3));\n",
              "        fill: #FFFFFF;\n",
              "      }\n",
              "    </style>\n",
              "    <button class=\"colab-df-generate\" onclick=\"generateWithVariable('nuevo_df')\"\n",
              "            title=\"Generate code using this dataframe.\"\n",
              "            style=\"display:none;\">\n",
              "\n",
              "  <svg xmlns=\"http://www.w3.org/2000/svg\" height=\"24px\"viewBox=\"0 0 24 24\"\n",
              "       width=\"24px\">\n",
              "    <path d=\"M7,19H8.4L18.45,9,17,7.55,7,17.6ZM5,21V16.75L18.45,3.32a2,2,0,0,1,2.83,0l1.4,1.43a1.91,1.91,0,0,1,.58,1.4,1.91,1.91,0,0,1-.58,1.4L9.25,21ZM18.45,9,17,7.55Zm-12,3A5.31,5.31,0,0,0,4.9,8.1,5.31,5.31,0,0,0,1,6.5,5.31,5.31,0,0,0,4.9,4.9,5.31,5.31,0,0,0,6.5,1,5.31,5.31,0,0,0,8.1,4.9,5.31,5.31,0,0,0,12,6.5,5.46,5.46,0,0,0,6.5,12Z\"/>\n",
              "  </svg>\n",
              "    </button>\n",
              "    <script>\n",
              "      (() => {\n",
              "      const buttonEl =\n",
              "        document.querySelector('#id_fbbb0994-aeee-4f51-ac83-2d53f08fc928 button.colab-df-generate');\n",
              "      buttonEl.style.display =\n",
              "        google.colab.kernel.accessAllowed ? 'block' : 'none';\n",
              "\n",
              "      buttonEl.onclick = () => {\n",
              "        google.colab.notebook.generateWithVariable('nuevo_df');\n",
              "      }\n",
              "      })();\n",
              "    </script>\n",
              "  </div>\n",
              "\n",
              "    </div>\n",
              "  </div>\n"
            ],
            "application/vnd.google.colaboratory.intrinsic+json": {
              "type": "dataframe",
              "variable_name": "nuevo_df",
              "summary": "{\n  \"name\": \"nuevo_df\",\n  \"rows\": 10,\n  \"fields\": [\n    {\n      \"column\": \"Retailer\",\n      \"properties\": {\n        \"dtype\": \"category\",\n        \"num_unique_values\": 1,\n        \"samples\": [\n          \"West Gear\"\n        ],\n        \"semantic_type\": \"\",\n        \"description\": \"\"\n      }\n    },\n    {\n      \"column\": \"Retailer ID\",\n      \"properties\": {\n        \"dtype\": \"number\",\n        \"std\": 0,\n        \"min\": 1185732,\n        \"max\": 1185732,\n        \"num_unique_values\": 1,\n        \"samples\": [\n          1185732\n        ],\n        \"semantic_type\": \"\",\n        \"description\": \"\"\n      }\n    },\n    {\n      \"column\": \"Invoice Date\",\n      \"properties\": {\n        \"dtype\": \"date\",\n        \"min\": \"2021-03-08 00:00:00\",\n        \"max\": \"2021-12-08 00:00:00\",\n        \"num_unique_values\": 10,\n        \"samples\": [\n          \"2021-11-09 00:00:00\"\n        ],\n        \"semantic_type\": \"\",\n        \"description\": \"\"\n      }\n    },\n    {\n      \"column\": \"Region\",\n      \"properties\": {\n        \"dtype\": \"category\",\n        \"num_unique_values\": 1,\n        \"samples\": [\n          \"Northeast\"\n        ],\n        \"semantic_type\": \"\",\n        \"description\": \"\"\n      }\n    },\n    {\n      \"column\": \"State\",\n      \"properties\": {\n        \"dtype\": \"category\",\n        \"num_unique_values\": 1,\n        \"samples\": [\n          \"New York\"\n        ],\n        \"semantic_type\": \"\",\n        \"description\": \"\"\n      }\n    },\n    {\n      \"column\": \"City\",\n      \"properties\": {\n        \"dtype\": \"category\",\n        \"num_unique_values\": 1,\n        \"samples\": [\n          \"Albany\"\n        ],\n        \"semantic_type\": \"\",\n        \"description\": \"\"\n      }\n    },\n    {\n      \"column\": \"Product\",\n      \"properties\": {\n        \"dtype\": \"category\",\n        \"num_unique_values\": 1,\n        \"samples\": [\n          \"Men's Street Footwear\"\n        ],\n        \"semantic_type\": \"\",\n        \"description\": \"\"\n      }\n    },\n    {\n      \"column\": \"Price per Unit\",\n      \"properties\": {\n        \"dtype\": \"number\",\n        \"std\": 7.54615428178118,\n        \"min\": 45.0,\n        \"max\": 65.0,\n        \"num_unique_values\": 5,\n        \"samples\": [\n          55.00000000000001\n        ],\n        \"semantic_type\": \"\",\n        \"description\": \"\"\n      }\n    },\n    {\n      \"column\": \"Units Sold\",\n      \"properties\": {\n        \"dtype\": \"number\",\n        \"std\": 52,\n        \"min\": 775,\n        \"max\": 950,\n        \"num_unique_values\": 8,\n        \"samples\": [\n          825\n        ],\n        \"semantic_type\": \"\",\n        \"description\": \"\"\n      }\n    },\n    {\n      \"column\": \"Total Sales\",\n      \"properties\": {\n        \"dtype\": \"number\",\n        \"std\": 82183.92736214708,\n        \"min\": 371250.0,\n        \"max\": 617500.0,\n        \"num_unique_values\": 10,\n        \"samples\": [\n          465000.00000000006\n        ],\n        \"semantic_type\": \"\",\n        \"description\": \"\"\n      }\n    },\n    {\n      \"column\": \"Operating Profit\",\n      \"properties\": {\n        \"dtype\": \"number\",\n        \"std\": 36982.767312966185,\n        \"min\": 167062.5,\n        \"max\": 277875.0,\n        \"num_unique_values\": 10,\n        \"samples\": [\n          209250.00000000003\n        ],\n        \"semantic_type\": \"\",\n        \"description\": \"\"\n      }\n    },\n    {\n      \"column\": \"Operating Margin\",\n      \"properties\": {\n        \"dtype\": \"number\",\n        \"std\": 5.851389114294502e-17,\n        \"min\": 0.45,\n        \"max\": 0.45,\n        \"num_unique_values\": 1,\n        \"samples\": [\n          0.45\n        ],\n        \"semantic_type\": \"\",\n        \"description\": \"\"\n      }\n    },\n    {\n      \"column\": \"Sales Method\",\n      \"properties\": {\n        \"dtype\": \"category\",\n        \"num_unique_values\": 1,\n        \"samples\": [\n          \"In-store\"\n        ],\n        \"semantic_type\": \"\",\n        \"description\": \"\"\n      }\n    }\n  ]\n}"
            }
          },
          "metadata": {},
          "execution_count": 76
        }
      ]
    }
  ]
}